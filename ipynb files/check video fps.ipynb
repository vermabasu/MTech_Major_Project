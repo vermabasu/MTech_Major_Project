{
 "cells": [
  {
   "cell_type": "markdown",
   "id": "6f687307",
   "metadata": {},
   "source": [
    "# Cheking fps of drowzy dataset"
   ]
  },
  {
   "cell_type": "code",
   "execution_count": 4,
   "id": "b9cad925",
   "metadata": {},
   "outputs": [
    {
     "name": "stdout",
     "output_type": "stream",
     "text": [
      "Frames per second using video.get(cv2.CAP_PROP_FPS) : 30.0\n"
     ]
    }
   ],
   "source": [
    "import cv2\n",
    "if __name__ == '__main__' :\n",
    " \n",
    "    video = cv2.VideoCapture(\"9-2.mp4\");\n",
    " \n",
    "    # Find OpenCV version\n",
    "    (major_ver, minor_ver, subminor_ver) = (cv2.__version__).split('.')\n",
    " \n",
    "    if int(major_ver)  < 3 :\n",
    "        fps = video.get(cv2.cv.CV_CAP_PROP_FPS)\n",
    "        print (\"Frames per second using video.get(cv2.cv.CV_CAP_PROP_FPS): {0}\".format(fps))\n",
    "    else :\n",
    "        fps = video.get(cv2.CAP_PROP_FPS)\n",
    "        print (\"Frames per second using video.get(cv2.CAP_PROP_FPS) : {0}\".format(fps))\n",
    " \n",
    "    video.release();"
   ]
  },
  {
   "cell_type": "code",
   "execution_count": null,
   "id": "b4fa138c",
   "metadata": {},
   "outputs": [],
   "source": []
  },
  {
   "cell_type": "markdown",
   "id": "bcd4784f",
   "metadata": {},
   "source": [
    "# Checking fps of web cam video"
   ]
  },
  {
   "cell_type": "code",
   "execution_count": 5,
   "id": "68239f9b",
   "metadata": {},
   "outputs": [
    {
     "name": "stdout",
     "output_type": "stream",
     "text": [
      "Frames per second using video.get(cv2.CAP_PROP_FPS) : 30.0\n"
     ]
    }
   ],
   "source": [
    "import cv2\n",
    "if __name__ == '__main__' :\n",
    " \n",
    "    video = cv2.VideoCapture(0);\n",
    " \n",
    "    # Find OpenCV version\n",
    "    (major_ver, minor_ver, subminor_ver) = (cv2.__version__).split('.')\n",
    " \n",
    "    if int(major_ver)  < 3 :\n",
    "        fps = video.get(cv2.cv.CV_CAP_PROP_FPS)\n",
    "        print (\"Frames per second using video.get(cv2.cv.CV_CAP_PROP_FPS): {0}\".format(fps))\n",
    "    else :\n",
    "        fps = video.get(cv2.CAP_PROP_FPS)\n",
    "        print (\"Frames per second using video.get(cv2.CAP_PROP_FPS) : {0}\".format(fps))\n",
    " \n",
    "    video.release();"
   ]
  },
  {
   "cell_type": "code",
   "execution_count": null,
   "id": "e1ffdb07",
   "metadata": {},
   "outputs": [],
   "source": []
  }
 ],
 "metadata": {
  "kernelspec": {
   "display_name": "Python 3",
   "language": "python",
   "name": "python3"
  },
  "language_info": {
   "codemirror_mode": {
    "name": "ipython",
    "version": 3
   },
   "file_extension": ".py",
   "mimetype": "text/x-python",
   "name": "python",
   "nbconvert_exporter": "python",
   "pygments_lexer": "ipython3",
   "version": "3.6.13"
  }
 },
 "nbformat": 4,
 "nbformat_minor": 5
}
