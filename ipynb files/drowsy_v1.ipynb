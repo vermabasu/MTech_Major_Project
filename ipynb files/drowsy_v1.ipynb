{
 "cells": [
  {
   "cell_type": "code",
   "execution_count": 1,
   "id": "b9d8bde0",
   "metadata": {},
   "outputs": [],
   "source": [
    "import cv2\n",
    "import matplotlib.pyplot as plt\n",
    "import image_dehazer\n",
    "import numpy as np\n",
    "from threading import Thread"
   ]
  },
  {
   "cell_type": "code",
   "execution_count": 2,
   "id": "db072f9a",
   "metadata": {},
   "outputs": [],
   "source": [
    "def cropping(img):\n",
    "    height = img.shape[0]\n",
    "    width = img.shape[1]\n",
    "    new_h = height//4\n",
    "    new_w = width//4\n",
    "    new_img = img[new_h:int(new_h*3),new_w:int(new_w*3)]\n",
    "    return new_img"
   ]
  },
  {
   "cell_type": "code",
   "execution_count": 3,
   "id": "ccc7cebc",
   "metadata": {},
   "outputs": [],
   "source": [
    "def LIME(img):\n",
    "#     img = cv2.resize(img, (60,80))\n",
    "\n",
    "    #Invert the image\n",
    "    new_img = 255-img\n",
    "    \n",
    "    #Dehazing the inverted image\n",
    "    dehaze_img = image_dehazer.remove_haze(new_img)\n",
    "\n",
    "\n",
    "    #inverse the dehaze image\n",
    "    inv_img = 255-dehaze_img\n",
    "\n",
    "    \n",
    "    return inv_img"
   ]
  },
  {
   "cell_type": "code",
   "execution_count": 4,
   "id": "5fd4a026",
   "metadata": {},
   "outputs": [],
   "source": [
    "class VideoGet:\n",
    "    \"\"\"\n",
    "    Class that continuously gets frames from a VideoCapture object\n",
    "    with a dedicated thread.\n",
    "    \"\"\"\n",
    "\n",
    "    def __init__(self, src=0):\n",
    "        self.stream = cv2.VideoCapture(src)\n",
    "        (self.grabbed, self.frame) = self.stream.read()\n",
    "        self.stopped = False\n",
    "\n",
    "    def start(self):    \n",
    "        Thread(target=self.get, args=()).start()\n",
    "        return self\n",
    "\n",
    "    def get(self):\n",
    "        while not self.stopped:\n",
    "            if not self.grabbed:\n",
    "                self.stop()\n",
    "            else:\n",
    "                (self.grabbed, self.frame) = self.stream.read()\n",
    "                \n",
    "\n",
    "    def stop(self):\n",
    "        self.stopped = True"
   ]
  },
  {
   "cell_type": "code",
   "execution_count": 5,
   "id": "2d637bf9",
   "metadata": {},
   "outputs": [],
   "source": [
    "# from datetime import datetime\n",
    "\n",
    "# class CountsPerSec:\n",
    "#     \"\"\"\n",
    "#     Class that tracks the number of occurrences (\"counts\") of an\n",
    "#     arbitrary event and returns the frequency in occurrences\n",
    "#     (counts) per second. The caller must increment the count.\n",
    "#     \"\"\"\n",
    "\n",
    "#     def __init__(self):\n",
    "#         self._start_time = None\n",
    "#         self._num_occurrences = 0\n",
    "\n",
    "#     def start(self):\n",
    "#         self._start_time = datetime.now()\n",
    "#         return self\n",
    "\n",
    "#     def increment(self):\n",
    "#         self._num_occurrences += 1\n",
    "\n",
    "#     def countsPerSec(self):\n",
    "#         elapsed_time = (datetime.now() - self._start_time).total_seconds()\n",
    "#         return self._num_occurrences / elapsed_time if elapsed_time > 0 else 0"
   ]
  },
  {
   "cell_type": "code",
   "execution_count": 6,
   "id": "2fdef313",
   "metadata": {},
   "outputs": [],
   "source": [
    "# def putIterationsPerSec(frame, iterations_per_sec):\n",
    "#     \"\"\"\n",
    "#     Add iterations per second text to lower-left corner of a frame.\n",
    "#     \"\"\"\n",
    "\n",
    "#     cv2.putText(frame, \"{:.0f} iterations/sec\".format(iterations_per_sec),\n",
    "#         (10, 450), cv2.FONT_HERSHEY_SIMPLEX, 1.0, (0, 255,0),3)\n",
    "#     return frame\n"
   ]
  },
  {
   "cell_type": "code",
   "execution_count": 7,
   "id": "96fbe215",
   "metadata": {},
   "outputs": [],
   "source": [
    "class VideoShow:\n",
    "    \"\"\"\n",
    "    Class that continuously shows a frame using a dedicated thread.\n",
    "    \"\"\"\n",
    "\n",
    "    def __init__(self, frame=None):\n",
    "        self.frame = frame\n",
    "        self.stopped = False\n",
    "\n",
    "    def start(self):\n",
    "        Thread(target=self.show, args=()).start()\n",
    "        return self\n",
    "\n",
    "    def show(self):\n",
    "        while not self.stopped:\n",
    "            cv2.imshow(\"Video\", self.frame)\n",
    "            if cv2.waitKey(1) == ord(\"q\"):\n",
    "                self.stopped = True\n",
    "\n",
    "    def stop(self):\n",
    "        self.stopped = True"
   ]
  },
  {
   "cell_type": "code",
   "execution_count": 8,
   "id": "f8d5ddd7",
   "metadata": {},
   "outputs": [],
   "source": [
    "# import tensorflow\n",
    "# from tensorflow.keras import models\n",
    "# mbllen = models.load_model('Syn_img_lowlight_model.h5')\n",
    "# def mbllen_model(frame):\n",
    "#     img_A = cv2.cvtColor(frame,cv2.COLOR_BGR2RGB)\n",
    "#     img_A = img_A/255\n",
    "#     img_A = img_A[np.newaxis, :]\n",
    "    \n",
    "#     width = img_A.shape[1]\n",
    "#     height = img_A.shape[2]\n",
    "    \n",
    "#     pred_img = mbllen.predict(img_A)\n",
    "    \n",
    "#     return pred_img.reshape(width,height,3)"
   ]
  },
  {
   "cell_type": "code",
   "execution_count": 9,
   "id": "f9c1cc38",
   "metadata": {},
   "outputs": [],
   "source": [
    "eye_classifier = cv2.CascadeClassifier(cv2.data.haarcascades + 'haarcascade_eye.xml')\n",
    "def drowsy(frame):\n",
    "    gray = cv2.cvtColor(frame, cv2.COLOR_BGR2GRAY)\n",
    "    eyes = eye_classifier.detectMultiScale(gray,1.3,4)\n",
    "    if len(eyes) == 0:\n",
    "        print(\"eyes are not detected\")\n",
    "    else:\n",
    "        for (ex,ey,ew,eh) in eyes:\n",
    "            cv2.rectangle(frame,(ex,ey),(ex+ew,ey+eh),(255,255,0),2)\n",
    "    return frame"
   ]
  },
  {
   "cell_type": "code",
   "execution_count": 10,
   "id": "ed77d7f9",
   "metadata": {},
   "outputs": [],
   "source": [
    "# from datetime import datetime\n",
    "# class fps():\n",
    "#     def __init__(self):\n",
    "#         self.inc=0\n",
    "#         self.s = datetime.now()\n",
    "#         self.s_m = self.s.strftime(\"%M\")\n",
    "#         self.s_s = self.s.strftime(\"%S\")\n",
    "#         self.start_time = int(self.s_m)*60+int(self.s_s)\n",
    "        \n",
    "#     def increment(self):\n",
    "#         self.inc+=1\n",
    "        \n",
    "#     def fps_calculate(self):\n",
    "#         return self.start_time, self.end_time, self.inc/(self.end_time-self.start_time)\n",
    "    \n",
    "#     def spf_calculate(self):\n",
    "#         return (self.end_time-self.start_time)/self.inc\n",
    "    \n",
    "#     def stop(self):\n",
    "#         self.e = datetime.now()\n",
    "#         self.e_m = self.e.strftime(\"%M\")\n",
    "#         self.e_s = self.e.strftime(\"%S\")\n",
    "#         self.end_time =int(self.e_m)*60+int(self.e_s)"
   ]
  },
  {
   "cell_type": "code",
   "execution_count": 11,
   "id": "63a9a7e9",
   "metadata": {},
   "outputs": [],
   "source": [
    "def threadBoth():\n",
    "    \"\"\"\n",
    "    Dedicated thread for grabbing video frames with VideoGet object.\n",
    "    Dedicated thread for showing video frames with VideoShow object.\n",
    "    Main thread serves only to pass frames between VideoGet and\n",
    "    VideoShow objects/threads.\n",
    "    \"\"\"\n",
    "\n",
    "    video_getter = VideoGet(0).start()\n",
    "    video_shower = VideoShow(video_getter.frame).start()\n",
    "    \n",
    "    while True:\n",
    "        if video_getter.stopped or video_shower.stopped:\n",
    "            video_shower.stop()\n",
    "            video_getter.stop()\n",
    "            break\n",
    "\n",
    "        frame = video_getter.frame\n",
    "        \n",
    "        #cropping image\n",
    "        frame = cropping(frame)\n",
    "    \n",
    "        #Low-light-image-enhancement\n",
    "        inv_img = LIME(frame)\n",
    "\n",
    "        #detect eye\n",
    "        new_img = drowsy(inv_img)\n",
    "        \n",
    "#         f.increment()\n",
    "        video_shower.frame = inv_img"
   ]
  },
  {
   "cell_type": "code",
   "execution_count": 12,
   "id": "08df5675",
   "metadata": {},
   "outputs": [
    {
     "name": "stdout",
     "output_type": "stream",
     "text": [
      "eyes are not detected\n",
      "eyes are not detected\n",
      "eyes are not detected\n",
      "eyes are not detected\n",
      "eyes are not detected\n",
      "eyes are not detected\n",
      "eyes are not detected\n",
      "eyes are not detected\n",
      "eyes are not detected\n",
      "eyes are not detected\n",
      "eyes are not detected\n",
      "eyes are not detected\n",
      "eyes are not detected\n",
      "eyes are not detected\n",
      "eyes are not detected\n",
      "eyes are not detected\n",
      "eyes are not detected\n",
      "eyes are not detected\n",
      "eyes are not detected\n",
      "eyes are not detected\n",
      "eyes are not detected\n",
      "eyes are not detected\n",
      "eyes are not detected\n",
      "eyes are not detected\n",
      "eyes are not detected\n",
      "eyes are not detected\n",
      "eyes are not detected\n",
      "eyes are not detected\n",
      "eyes are not detected\n",
      "eyes are not detected\n",
      "eyes are not detected\n",
      "eyes are not detected\n",
      "eyes are not detected\n",
      "eyes are not detected\n",
      "eyes are not detected\n",
      "eyes are not detected\n",
      "eyes are not detected\n",
      "eyes are not detected\n",
      "eyes are not detected\n",
      "eyes are not detected\n",
      "eyes are not detected\n",
      "eyes are not detected\n",
      "eyes are not detected\n",
      "eyes are not detected\n",
      "eyes are not detected\n",
      "eyes are not detected\n",
      "eyes are not detected\n",
      "eyes are not detected\n",
      "eyes are not detected\n",
      "eyes are not detected\n",
      "eyes are not detected\n",
      "eyes are not detected\n",
      "eyes are not detected\n",
      "eyes are not detected\n",
      "eyes are not detected\n"
     ]
    }
   ],
   "source": [
    "# f=fps()\n",
    "threadBoth()"
   ]
  },
  {
   "cell_type": "code",
   "execution_count": 13,
   "id": "040c66b3",
   "metadata": {},
   "outputs": [],
   "source": [
    "# f.stop()"
   ]
  },
  {
   "cell_type": "code",
   "execution_count": 14,
   "id": "27c0cade",
   "metadata": {},
   "outputs": [],
   "source": [
    "# print('fps',str(f.fps_calculate()))\n",
    "# print('spf',str(f.spf_calculate()))"
   ]
  },
  {
   "cell_type": "code",
   "execution_count": 15,
   "id": "0e008054",
   "metadata": {},
   "outputs": [],
   "source": [
    "# f.fps_calculate()"
   ]
  },
  {
   "cell_type": "code",
   "execution_count": 16,
   "id": "fcfc5fb3",
   "metadata": {},
   "outputs": [],
   "source": [
    "# f.spf_calculate()"
   ]
  },
  {
   "cell_type": "code",
   "execution_count": null,
   "id": "afe21fe9",
   "metadata": {},
   "outputs": [],
   "source": []
  }
 ],
 "metadata": {
  "kernelspec": {
   "display_name": "Python 3",
   "language": "python",
   "name": "python3"
  },
  "language_info": {
   "codemirror_mode": {
    "name": "ipython",
    "version": 3
   },
   "file_extension": ".py",
   "mimetype": "text/x-python",
   "name": "python",
   "nbconvert_exporter": "python",
   "pygments_lexer": "ipython3",
   "version": "3.8.12"
  }
 },
 "nbformat": 4,
 "nbformat_minor": 5
}
